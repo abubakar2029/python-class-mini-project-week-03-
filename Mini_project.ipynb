{
  "nbformat": 4,
  "nbformat_minor": 0,
  "metadata": {
    "colab": {
      "provenance": []
    },
    "kernelspec": {
      "name": "python3",
      "display_name": "Python 3"
    },
    "language_info": {
      "name": "python"
    }
  },
  "cells": [
    {
      "cell_type": "code",
      "execution_count": null,
      "metadata": {
        "id": "NNBCwny_sAdP"
      },
      "outputs": [],
      "source": [
        "# Calculator - mini project\n",
        "\n",
        "# user sa pochna os na operation kya perform krna ha\n",
        "# then I will take the values (numbers)\n",
        "# wo values respective function ma bheajna han\n",
        "# calculation ko print krwa do\n",
        "\n"
      ]
    },
    {
      "cell_type": "code",
      "source": [
        "# num1=000\n",
        "def multiply(x,y): # parameters\n",
        "  print(x*y)\n",
        "\n",
        "def divide(x,y): # parameters\n",
        "  if y==0:\n",
        "    print(\"invalid input 0\")\n",
        "    return\n",
        "  print(x/y)\n",
        "\n",
        "def calculator():\n",
        "  print(\"Select an operation :\")\n",
        "  print(\"1. Multiply\")\n",
        "  print(\"2. Divide\")\n",
        "  print(\"3. Sum\")\n",
        "  # print()\n",
        "\n",
        "  operation = input(\"Select one of 1/2/3 :\")\n",
        "\n",
        "  num1 = float(input(\"Enter first number : \"))\n",
        "  num2 = float(input(\"Enter second number :\"))\n",
        "\n",
        "# 5 ,7\n",
        "# 3.5\n",
        "\n",
        "  if operation == \"1\":\n",
        "    multiply(num1,num2) # arguments\n",
        "  elif operation == \"2\":\n",
        "    divide(num1,num2)\n",
        "  elif operation == \"3\":\n",
        "    sum = lambda a,b: a+b\n",
        "    #           ____\n",
        "    print(sum(num1,num2))\n",
        "  else:\n",
        "    print(\"Invalid input\")\n",
        "\n",
        "calculator()\n"
      ],
      "metadata": {
        "colab": {
          "base_uri": "https://localhost:8080/"
        },
        "id": "rh5cE5lluGJ7",
        "outputId": "97772d4c-0ce2-415d-a70c-73947ab8586f"
      },
      "execution_count": 10,
      "outputs": [
        {
          "output_type": "stream",
          "name": "stdout",
          "text": [
            "Select an operation :\n",
            "1. Multiply\n",
            "2. Divide\n",
            "3. Sum\n",
            "Select one of 1/2/3 :2\n",
            "Enter first number : 4\n",
            "Enter second number :0\n",
            "invalid input 0\n"
          ]
        }
      ]
    }
  ]
}